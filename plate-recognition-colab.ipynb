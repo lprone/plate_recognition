{
  "nbformat": 4,
  "nbformat_minor": 0,
  "metadata": {
    "kernelspec": {
      "display_name": "Python 3",
      "language": "python",
      "name": "python3"
    },
    "language_info": {
      "codemirror_mode": {
        "name": "ipython",
        "version": 3
      },
      "file_extension": ".py",
      "mimetype": "text/x-python",
      "name": "python",
      "nbconvert_exporter": "python",
      "pygments_lexer": "ipython3",
      "version": "3.6.9"
    },
    "colab": {
      "name": "plate-recognition-colab.ipynb",
      "provenance": [],
      "include_colab_link": true
    }
  },
  "cells": [
    {
      "cell_type": "markdown",
      "metadata": {
        "id": "view-in-github",
        "colab_type": "text"
      },
      "source": [
        "<a href=\"https://colab.research.google.com/github/lprone/plate_recognition/blob/master/plate-recognition-colab.ipynb\" target=\"_parent\"><img src=\"https://colab.research.google.com/assets/colab-badge.svg\" alt=\"Open In Colab\"/></a>"
      ]
    },
    {
      "cell_type": "code",
      "metadata": {
        "id": "xchB6wZjyXia",
        "colab_type": "code",
        "outputId": "b8ad7984-d188-4742-f88a-325a6ca357aa",
        "colab": {
          "base_uri": "https://localhost:8080/",
          "height": 119
        }
      },
      "source": [
        "!git clone https://github.com/lprone/plate_recognition.git"
      ],
      "execution_count": 1,
      "outputs": [
        {
          "output_type": "stream",
          "text": [
            "Cloning into 'plate_recognition'...\n",
            "remote: Enumerating objects: 23, done.\u001b[K\n",
            "remote: Counting objects: 100% (23/23), done.\u001b[K\n",
            "remote: Compressing objects: 100% (16/16), done.\u001b[K\n",
            "remote: Total 23 (delta 7), reused 17 (delta 4), pack-reused 0\u001b[K\n",
            "Unpacking objects: 100% (23/23), done.\n"
          ],
          "name": "stdout"
        }
      ]
    },
    {
      "cell_type": "code",
      "metadata": {
        "id": "oni08uPByXkT",
        "colab_type": "code",
        "outputId": "28156b6e-a1e2-4279-e453-3fdc9cc1e243",
        "colab": {
          "base_uri": "https://localhost:8080/",
          "height": 34
        }
      },
      "source": [
        "%cd plate_recognition/"
      ],
      "execution_count": 2,
      "outputs": [
        {
          "output_type": "stream",
          "text": [
            "/content/plate_recognition\n"
          ],
          "name": "stdout"
        }
      ]
    },
    {
      "cell_type": "code",
      "metadata": {
        "id": "_-Gv_8kcVB92",
        "colab_type": "code",
        "colab": {
          "base_uri": "https://localhost:8080/",
          "height": 224
        },
        "outputId": "0f27fad5-b6ba-4e58-df0b-3ebce1af66a1"
      },
      "source": [
        "!wget https://ucbd4a982b68b4a4e014176706cc.dl.dropboxusercontent.com/cd/0/get/A4RpEHG-xtNPpK8tQq8jzxsioTi_vJV682bY-6fR2rwdSbQFjf3e7K5YiP0NdkdIWGcgAZjXDe0vzs3yxi09-jU_GgSmE6XBC2cnsMX1A1ZWMTGolRIaYNviVu5Qo9-Trr0/file"
      ],
      "execution_count": 3,
      "outputs": [
        {
          "output_type": "stream",
          "text": [
            "--2020-05-24 01:47:58--  https://ucbd4a982b68b4a4e014176706cc.dl.dropboxusercontent.com/cd/0/get/A4RpEHG-xtNPpK8tQq8jzxsioTi_vJV682bY-6fR2rwdSbQFjf3e7K5YiP0NdkdIWGcgAZjXDe0vzs3yxi09-jU_GgSmE6XBC2cnsMX1A1ZWMTGolRIaYNviVu5Qo9-Trr0/file\n",
            "Resolving ucbd4a982b68b4a4e014176706cc.dl.dropboxusercontent.com (ucbd4a982b68b4a4e014176706cc.dl.dropboxusercontent.com)... 162.125.82.6, 2620:100:6032:6::a27d:5206\n",
            "Connecting to ucbd4a982b68b4a4e014176706cc.dl.dropboxusercontent.com (ucbd4a982b68b4a4e014176706cc.dl.dropboxusercontent.com)|162.125.82.6|:443... connected.\n",
            "HTTP request sent, awaiting response... 200 OK\n",
            "Length: 245187740 (234M) [application/binary]\n",
            "Saving to: ‘file’\n",
            "\n",
            "file                100%[===================>] 233.83M  40.3MB/s    in 15s     \n",
            "\n",
            "2020-05-24 01:48:14 (15.2 MB/s) - ‘file’ saved [245187740/245187740]\n",
            "\n"
          ],
          "name": "stdout"
        }
      ]
    },
    {
      "cell_type": "code",
      "metadata": {
        "id": "2qEdkIUHW5gv",
        "colab_type": "code",
        "colab": {}
      },
      "source": [
        "!mv file lapi.weights"
      ],
      "execution_count": 0,
      "outputs": []
    },
    {
      "cell_type": "code",
      "metadata": {
        "id": "sw8St6i9yXli",
        "colab_type": "code",
        "outputId": "219bd2d4-cf18-429f-83e4-a88e35550291",
        "colab": {
          "base_uri": "https://localhost:8080/",
          "height": 204
        }
      },
      "source": [
        "!python3 object_detection_yolo.py --image=test.jpg"
      ],
      "execution_count": 5,
      "outputs": [
        {
          "output_type": "stream",
          "text": [
            "out.shape :  (507, 6)\n",
            "out.shape :  (2028, 6)\n",
            "0.9998965  -  0.999786  - th :  0.5\n",
            "[0.7877683  0.7133033  0.12710871 0.07150582 0.9998965  0.999786  ]\n",
            "out.shape :  (8112, 6)\n",
            "0.946449  -  0.94638616  - th :  0.5\n",
            "[0.78713894 0.7143527  0.11949745 0.0689413  0.946449   0.94638616]\n",
            "0.93954825  -  0.0  - th :  0.5\n",
            "[0.7899764  0.7142191  0.11924335 0.06672049 0.93954825 0.        ]\n",
            "Done processing !!!\n",
            "Output file is stored as  test_yolo_out_py.jpg\n"
          ],
          "name": "stdout"
        }
      ]
    },
    {
      "cell_type": "code",
      "metadata": {
        "id": "g8vv_spqzh-h",
        "colab_type": "code",
        "colab": {}
      },
      "source": [
        ""
      ],
      "execution_count": 0,
      "outputs": []
    }
  ]
}