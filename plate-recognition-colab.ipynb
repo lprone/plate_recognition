{
 "cells": [
  {
   "cell_type": "code",
   "execution_count": null,
   "metadata": {},
   "outputs": [],
   "source": [
    "!git clone https://github.com/lprone/plate_recognition.git"
   ]
  },
  {
   "cell_type": "code",
   "execution_count": null,
   "metadata": {},
   "outputs": [],
   "source": [
    "%cd plate_recognition/"
   ]
  },
  {
   "cell_type": "code",
   "execution_count": 1,
   "metadata": {},
   "outputs": [
    {
     "name": "stdout",
     "output_type": "stream",
     "text": [
      "out.shape :  (507, 6)\n",
      "out.shape :  (2028, 6)\n",
      "0.9998965  -  0.999786  - th :  0.5\n",
      "[0.7877683  0.7133033  0.12710871 0.07150581 0.9998965  0.999786  ]\n",
      "out.shape :  (8112, 6)\n",
      "0.946449  -  0.94638616  - th :  0.5\n",
      "[0.78713894 0.7143527  0.11949746 0.06894129 0.946449   0.94638616]\n",
      "0.93954813  -  0.0  - th :  0.5\n",
      "[0.7899764  0.7142191  0.11924333 0.06672049 0.93954813 0.        ]\n",
      "Done processing !!!\n",
      "Output file is stored as  test_yolo_out_py.jpg\n"
     ]
    }
   ],
   "source": [
    " !python3 object_detection_yolo.py --image=test.jpg"
   ]
  }
 ],
 "metadata": {
  "kernelspec": {
   "display_name": "Python 3",
   "language": "python",
   "name": "python3"
  },
  "language_info": {
   "codemirror_mode": {
    "name": "ipython",
    "version": 3
   },
   "file_extension": ".py",
   "mimetype": "text/x-python",
   "name": "python",
   "nbconvert_exporter": "python",
   "pygments_lexer": "ipython3",
   "version": "3.6.9"
  }
 },
 "nbformat": 4,
 "nbformat_minor": 4
}
